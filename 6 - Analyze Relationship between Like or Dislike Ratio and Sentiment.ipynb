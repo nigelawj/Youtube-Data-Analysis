{
 "cells": [
  {
   "cell_type": "markdown",
   "metadata": {},
   "source": [
    "# 6. Analyze Relationship between Like or Dislike Ratio and Sentiment"
   ]
  },
  {
   "cell_type": "markdown",
   "metadata": {},
   "source": [
    "# Table of contents\n",
    "1. [Import libraries](#import_libraries)\n",
    "2. [Load data](#load)\n",
    "3. [Use Textblob library to get sentiment](#sentiment)\n",
    "4. [Calculate correlation between like_rate, dislike_rate and comment_rate](#correlation)\n",
    "5. [Creating correlation matrix](#correlation matrix)"
   ]
  },
  {
   "cell_type": "markdown",
   "metadata": {},
   "source": [
    "### Import libraries <a name=\"import_libraries\"></a>"
   ]
  },
  {
   "cell_type": "code",
   "execution_count": 1,
   "metadata": {
    "collapsed": true
   },
   "outputs": [],
   "source": [
    "import pandas as pd\n",
    "from textblob import TextBlob\n",
    "import numpy as np\n",
    "import tqdm\n",
    "from pathlib import Path\n",
    "cwd = Path('.')\n",
    "import matplotlib.pyplot as plt\n",
    "import seaborn as sns\n",
    "plt.style.use('ggplot')"
   ]
  },
  {
   "cell_type": "code",
   "execution_count": 2,
   "metadata": {
    "collapsed": true
   },
   "outputs": [],
   "source": [
    "from collections import Counter\n",
    "from scipy.stats import pearsonr\n",
    "from sklearn.svm import SVR\n",
    "from sklearn.model_selection import cross_val_score\n",
    "from sklearn.linear_model import LinearRegression\n",
    "from sklearn.preprocessing import MinMaxScaler"
   ]
  },
  {
   "cell_type": "code",
   "execution_count": 3,
   "metadata": {
    "collapsed": true
   },
   "outputs": [],
   "source": [
    "from random import seed\n",
    "RANDOM = 42\n",
    "seed(RANDOM)\n",
    "np.random.seed(RANDOM)"
   ]
  },
  {
   "cell_type": "markdown",
   "metadata": {},
   "source": [
    "### Load data <a name=\"load\"></a>"
   ]
  },
  {
   "cell_type": "code",
   "execution_count": 4,
   "metadata": {
    "collapsed": true
   },
   "outputs": [],
   "source": [
    "videos_df = pd.read_csv(cwd/'output'/\"videos.csv\")"
   ]
  },
  {
   "cell_type": "code",
   "execution_count": 5,
   "metadata": {
    "collapsed": true
   },
   "outputs": [],
   "source": [
    "videos_df = videos_df.drop_duplicates(subset='video_id')\n",
    "videos_df = videos_df.dropna()"
   ]
  },
  {
   "cell_type": "code",
   "execution_count": 6,
   "metadata": {
    "collapsed": true
   },
   "outputs": [],
   "source": [
    "videos_df = videos_df[['video_id', 'like_rate', 'dislike_rate', 'comment_rate']]"
   ]
  },
  {
   "cell_type": "code",
   "execution_count": 8,
   "metadata": {
    "scrolled": true
   },
   "outputs": [
    {
     "name": "stderr",
     "output_type": "stream",
     "text": [
      "C:\\Users\\User\\Anaconda3\\lib\\site-packages\\IPython\\core\\interactiveshell.py:2698: DtypeWarning: Columns (2,3) have mixed types. Specify dtype option on import or set low_memory=False.\n",
      "  interactivity=interactivity, compiler=compiler, result=result)\n"
     ]
    }
   ],
   "source": [
    "comments_df = pd.read_csv(cwd/'output'/\"comments.csv\" , encoding=\"ISO-8859-1\")"
   ]
  },
  {
   "cell_type": "code",
   "execution_count": 9,
   "metadata": {
    "collapsed": true
   },
   "outputs": [],
   "source": [
    "#Using Textblob library to calculate sentiments\n",
    "def sentiment_calc(text):\n",
    "    try:\n",
    "        return TextBlob(text).sentiment.polarity\n",
    "    except:\n",
    "        return None"
   ]
  },
  {
   "cell_type": "code",
   "execution_count": 10,
   "metadata": {
    "collapsed": true
   },
   "outputs": [],
   "source": [
    "#function to change the continuous sentiment score to discrete\n",
    "def pol2sent(pol):\n",
    "    if pol<=-.5:\n",
    "        return 0 #\"Very negative\"\n",
    "    if pol>-.5 and pol<0:\n",
    "        return 1 #\"Negative\"\n",
    "    if pol == 0:\n",
    "        return 2 #\"Neutral\"\n",
    "    if pol > 0 and pol<0.5:\n",
    "        return 3 #\"Positive\"\n",
    "    if pol>=0.5:\n",
    "        return 4 #\"Very positive\""
   ]
  },
  {
   "cell_type": "markdown",
   "metadata": {},
   "source": [
    "### Use Textblob library to get sentiment <a name=\"sentiment\"></a>"
   ]
  },
  {
   "cell_type": "code",
   "execution_count": 11,
   "metadata": {
    "collapsed": true
   },
   "outputs": [],
   "source": [
    "#add one more column of [sentiment] to comments_df. Consist sentiment score\n",
    "comments_df['sentiment'] = comments_df.apply(lambda row: sentiment_calc(row[\"comment_text\"]), axis=1)"
   ]
  },
  {
   "cell_type": "code",
   "execution_count": 12,
   "metadata": {},
   "outputs": [
    {
     "data": {
      "text/plain": [
       "51"
      ]
     },
     "execution_count": 12,
     "metadata": {},
     "output_type": "execute_result"
    }
   ],
   "source": [
    "#check sentiment that value is null\n",
    "comments_df['sentiment'].isnull().sum()"
   ]
  },
  {
   "cell_type": "code",
   "execution_count": 13,
   "metadata": {
    "collapsed": true
   },
   "outputs": [],
   "source": [
    "#only keep rows where sentiment is not null\n",
    "comments_df = comments_df[pd.notnull(comments_df['sentiment'])]"
   ]
  },
  {
   "cell_type": "code",
   "execution_count": 14,
   "metadata": {},
   "outputs": [
    {
     "data": {
      "text/plain": [
       "0"
      ]
     },
     "execution_count": 14,
     "metadata": {},
     "output_type": "execute_result"
    }
   ],
   "source": [
    "comments_df['sentiment'].isnull().sum()"
   ]
  },
  {
   "cell_type": "code",
   "execution_count": 15,
   "metadata": {
    "collapsed": true
   },
   "outputs": [],
   "source": [
    "class Sentiment:\n",
    "    def __init__(self):\n",
    "        self.sentiment_scores = []\n",
    "        self.sentiment_categories = []\n",
    "        self.average_sentiment = None\n",
    "        self.sentiment_categories_vector = None\n",
    "    def add_sentiment_score(self, score):\n",
    "        self.sentiment_scores.append(score)\n",
    "    def add_sentiment_category(self, category):\n",
    "        self.sentiment_categories.append(category)\n",
    "    def set_average_sentiment(self):\n",
    "        self.average_sentiment = sum(self.sentiment_scores)/len(self.sentiment_scores)\n",
    "    def set_sentiment_categories_vector(self):\n",
    "        self.sentiment_categories_vector = [Counter(self.sentiment_categories)[i] for i in [0, 1, 2, 3, 4]]\n",
    "        self.sentiment_categories_vector = np.array(self.sentiment_categories_vector)/len(self.sentiment_categories)"
   ]
  },
  {
   "cell_type": "code",
   "execution_count": 16,
   "metadata": {
    "collapsed": true,
    "scrolled": true
   },
   "outputs": [],
   "source": [
    "video_id_sentiment = {} # video_id : sentiment_object\n",
    "for _, row in comments_df.iterrows():\n",
    "    video_id = row['video_id']\n",
    "    sentiment = row['sentiment']\n",
    "    sentiment_category = pol2sent(sentiment)\n",
    "    if video_id not in video_id_sentiment:\n",
    "        video_id_sentiment[video_id] = Sentiment()\n",
    "    video_id_sentiment[video_id].add_sentiment_score(sentiment)\n",
    "    video_id_sentiment[video_id].add_sentiment_category(sentiment_category)"
   ]
  },
  {
   "cell_type": "code",
   "execution_count": 17,
   "metadata": {
    "collapsed": true
   },
   "outputs": [],
   "source": [
    "for video_id, sentiment_object in video_id_sentiment.items():\n",
    "    sentiment_object.set_average_sentiment()\n",
    "    sentiment_object.set_sentiment_categories_vector()"
   ]
  },
  {
   "cell_type": "code",
   "execution_count": 18,
   "metadata": {
    "collapsed": true
   },
   "outputs": [],
   "source": [
    "video_id_ratio = {}\n",
    "for _, row in videos_df.iterrows():\n",
    "    video_id = row['video_id']\n",
    "    like_rate = row['like_rate']\n",
    "    dislike_rate = row['dislike_rate']\n",
    "    comment_rate = row[\"comment_rate\"]\n",
    "    if video_id not in video_id_ratio:\n",
    "        video_id_ratio[video_id] = {}\n",
    "    video_id_ratio[video_id]['like_rate'] = like_rate\n",
    "    video_id_ratio[video_id]['dislike_rate'] = dislike_rate\n",
    "    video_id_ratio[video_id]['comment_rate'] = comment_rate"
   ]
  },
  {
   "cell_type": "markdown",
   "metadata": {},
   "source": [
    "### Calculate correlation between like_rate, dislike_rate and comment_rate <a name=\"correlation\"></a>"
   ]
  },
  {
   "cell_type": "code",
   "execution_count": 19,
   "metadata": {},
   "outputs": [
    {
     "name": "stdout",
     "output_type": "stream",
     "text": [
      "The correlation between sentiment and like_rate: 0.3472276174623389\n",
      "The correlation between sentiment and dislike_rate: -0.21289988245291747\n",
      "The correlation between sentiment and comment_rate: -0.011427047673686417\n"
     ]
    }
   ],
   "source": [
    "metrics = ['like_rate', 'dislike_rate', 'comment_rate']\n",
    "for metric in metrics:\n",
    "    X = []\n",
    "    y = []\n",
    "    for video_id, sentiment_object in video_id_sentiment.items():\n",
    "        if video_id in video_id_ratio:\n",
    "            X.append(sentiment_object.average_sentiment)\n",
    "            y.append(video_id_ratio[video_id][metric])\n",
    "    X = np.array(X).reshape(-1, 1)\n",
    "    X = np.nan_to_num(X)\n",
    "    y = np.array(y).reshape(-1, 1)\n",
    "    scaler = MinMaxScaler()\n",
    "    scaler.fit(y)\n",
    "    y = scaler.transform(y)\n",
    "    scaler = MinMaxScaler()\n",
    "    scaler.fit(X)\n",
    "    X = scaler.transform(X)\n",
    "    from scipy.stats import pearsonr\n",
    "    print(f\"The correlation between sentiment and {metric}: {pearsonr(X.reshape(-1), y.reshape(-1))[0]}\")"
   ]
  },
  {
   "cell_type": "markdown",
   "metadata": {},
   "source": [
    "### Create a correlation matrix <a name=\"correlation matrix\"></a>"
   ]
  },
  {
   "cell_type": "code",
   "execution_count": 20,
   "metadata": {},
   "outputs": [
    {
     "data": {
      "text/html": [
       "<div>\n",
       "<style>\n",
       "    .dataframe thead tr:only-child th {\n",
       "        text-align: right;\n",
       "    }\n",
       "\n",
       "    .dataframe thead th {\n",
       "        text-align: left;\n",
       "    }\n",
       "\n",
       "    .dataframe tbody tr th {\n",
       "        vertical-align: top;\n",
       "    }\n",
       "</style>\n",
       "<table border=\"1\" class=\"dataframe\">\n",
       "  <thead>\n",
       "    <tr style=\"text-align: right;\">\n",
       "      <th></th>\n",
       "      <th>sentiment</th>\n",
       "      <th>video_id</th>\n",
       "    </tr>\n",
       "    <tr>\n",
       "      <th>video_id</th>\n",
       "      <th></th>\n",
       "      <th></th>\n",
       "    </tr>\n",
       "  </thead>\n",
       "  <tbody>\n",
       "    <tr>\n",
       "      <th>--JinobXWPk</th>\n",
       "      <td>0.041247</td>\n",
       "      <td>--JinobXWPk</td>\n",
       "    </tr>\n",
       "    <tr>\n",
       "      <th>--y69Ui8xwM</th>\n",
       "      <td>0.170290</td>\n",
       "      <td>--y69Ui8xwM</td>\n",
       "    </tr>\n",
       "    <tr>\n",
       "      <th>-1fzGnFwz9M</th>\n",
       "      <td>0.142876</td>\n",
       "      <td>-1fzGnFwz9M</td>\n",
       "    </tr>\n",
       "    <tr>\n",
       "      <th>-2hRYEFiPSA</th>\n",
       "      <td>0.238438</td>\n",
       "      <td>-2hRYEFiPSA</td>\n",
       "    </tr>\n",
       "    <tr>\n",
       "      <th>-3AGlBYyLjo</th>\n",
       "      <td>-0.318750</td>\n",
       "      <td>-3AGlBYyLjo</td>\n",
       "    </tr>\n",
       "  </tbody>\n",
       "</table>\n",
       "</div>"
      ],
      "text/plain": [
       "             sentiment     video_id\n",
       "video_id                           \n",
       "--JinobXWPk   0.041247  --JinobXWPk\n",
       "--y69Ui8xwM   0.170290  --y69Ui8xwM\n",
       "-1fzGnFwz9M   0.142876  -1fzGnFwz9M\n",
       "-2hRYEFiPSA   0.238438  -2hRYEFiPSA\n",
       "-3AGlBYyLjo  -0.318750  -3AGlBYyLjo"
      ]
     },
     "execution_count": 20,
     "metadata": {},
     "output_type": "execute_result"
    }
   ],
   "source": [
    "#create a video sentiment data frame with [polarity,video_id] and video_id index\n",
    "Videosentiment = comments_df.groupby(\"video_id\").mean()\n",
    "Videosentiment['video_id'] = Videosentiment.index\n",
    "Videosentiment.head()"
   ]
  },
  {
   "cell_type": "code",
   "execution_count": 21,
   "metadata": {
    "collapsed": true
   },
   "outputs": [],
   "source": [
    "#add one more column [sentiment] by merging USvideos and Videosentiment on video_id\n",
    "videos_df=videos_df.merge(Videosentiment, on=\"video_id\")"
   ]
  },
  {
   "cell_type": "code",
   "execution_count": 23,
   "metadata": {},
   "outputs": [
    {
     "data": {
      "image/png": "[encoded data removed]",
      "text/plain": [
       "<matplotlib.figure.Figure at 0x1f66f9559e8>"
      ]
     },
     "metadata": {},
     "output_type": "display_data"
    }
   ],
   "source": [
    "#make the correlation matrix\n",
    "plt.figure(figsize = (10,8))\n",
    "sns.heatmap(videos_df[['like_rate', 'dislike_rate', 'comment_rate','sentiment']].corr(), annot=True, fmt=\".2f\")\n",
    "plt.show()"
   ]
  },
  {
   "cell_type": "code",
   "execution_count": null,
   "metadata": {
    "collapsed": true
   },
   "outputs": [],
   "source": []
  },
  {
   "cell_type": "code",
   "execution_count": null,
   "metadata": {
    "collapsed": true
   },
   "outputs": [],
   "source": []
  }
 ],
 "metadata": {
  "kernelspec": {
   "display_name": "Python 3",
   "language": "python",
   "name": "python3"
  },
  "language_info": {
   "codemirror_mode": {
    "name": "ipython",
    "version": 3
   },
   "file_extension": ".py",
   "mimetype": "text/x-python",
   "name": "python",
   "nbconvert_exporter": "python",
   "pygments_lexer": "ipython3",
   "version": "3.6.3"
  }
 },
 "nbformat": 4,
 "nbformat_minor": 4
}
